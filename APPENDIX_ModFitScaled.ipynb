{
 "cells": [
  {
   "cell_type": "code",
   "execution_count": 1,
   "metadata": {},
   "outputs": [],
   "source": [
    "import numpy as np\n",
    "import pandas as pd\n",
    "\n",
    "from sklearn.model_selection import train_test_split\n",
    "from sklearn.linear_model import LogisticRegression\n",
    "from sklearn.metrics import accuracy_score, f1_score, classification_report\n",
    "from sklearn.preprocessing import MinMaxScaler\n",
    "from sklearn.utils import resample\n",
    "from sklearn.neighbors import KNeighborsClassifier\n",
    "from sklearn.neural_network import MLPClassifier"
   ]
  },
  {
   "cell_type": "code",
   "execution_count": 2,
   "metadata": {},
   "outputs": [],
   "source": [
    "# Read in data\n",
    "mod_data = pd.read_csv('appointments_clean.csv')"
   ]
  },
  {
   "cell_type": "code",
   "execution_count": 3,
   "metadata": {},
   "outputs": [],
   "source": [
    "# Split into X and y\n",
    "X = mod_data.drop(\n",
    "    ['PatientId', 'AppointmentID', 'ScheduledDay', 'AppointmentDay', \n",
    "     'Neighbourhood', 'No-show', 'NoShow'], \n",
    "    axis = 1\n",
    ")\n",
    "y = mod_data.NoShow\n",
    "\n",
    "# Test/train split\n",
    "X_train, X_test, y_train, y_test = train_test_split(\n",
    "    X, y, test_size = 0.3, random_state = 314\n",
    ")"
   ]
  },
  {
   "cell_type": "code",
   "execution_count": 4,
   "metadata": {},
   "outputs": [
    {
     "name": "stderr",
     "output_type": "stream",
     "text": [
      "/Library/Frameworks/Python.framework/Versions/3.7/lib/python3.7/site-packages/sklearn/preprocessing/data.py:323: DataConversionWarning: Data with input dtype int64 were all converted to float64 by MinMaxScaler.\n",
      "  return self.partial_fit(X, y)\n"
     ]
    }
   ],
   "source": [
    "# Scale data\n",
    "scaler = MinMaxScaler().fit(X_train)\n",
    "\n",
    "X_train = scaler.transform(X_train)\n",
    "X_test  = scaler.transform(X_test)"
   ]
  },
  {
   "cell_type": "code",
   "execution_count": 5,
   "metadata": {},
   "outputs": [],
   "source": [
    "# KNN\n",
    "clf_kn  = KNeighborsClassifier().fit(X_train, y_train)\n",
    "pred_kn = clf_kn.predict(X_test)"
   ]
  },
  {
   "cell_type": "code",
   "execution_count": 6,
   "metadata": {},
   "outputs": [
    {
     "name": "stderr",
     "output_type": "stream",
     "text": [
      "/Library/Frameworks/Python.framework/Versions/3.7/lib/python3.7/site-packages/sklearn/linear_model/logistic.py:432: FutureWarning: Default solver will be changed to 'lbfgs' in 0.22. Specify a solver to silence this warning.\n",
      "  FutureWarning)\n"
     ]
    }
   ],
   "source": [
    "# Logistic Regression (L2)\n",
    "clf_lr  = LogisticRegression(penalty = 'l2').fit(X_train, y_train)\n",
    "pred_lr = clf_lr.predict(X_test)"
   ]
  },
  {
   "cell_type": "code",
   "execution_count": 7,
   "metadata": {},
   "outputs": [
    {
     "name": "stderr",
     "output_type": "stream",
     "text": [
      "/Library/Frameworks/Python.framework/Versions/3.7/lib/python3.7/site-packages/sklearn/linear_model/logistic.py:432: FutureWarning: Default solver will be changed to 'lbfgs' in 0.22. Specify a solver to silence this warning.\n",
      "  FutureWarning)\n"
     ]
    }
   ],
   "source": [
    "# Logistic Regression (L1)\n",
    "clf_rr  = LogisticRegression(penalty = 'l1').fit(X_train, y_train)\n",
    "pred_rr = clf_rr.predict(X_test)"
   ]
  },
  {
   "cell_type": "code",
   "execution_count": 8,
   "metadata": {},
   "outputs": [],
   "source": [
    "# Neural Net\n",
    "clf_nn  = MLPClassifier().fit(X_train, y_train)\n",
    "pred_nn = clf_nn.predict(X_test)"
   ]
  },
  {
   "cell_type": "code",
   "execution_count": 9,
   "metadata": {},
   "outputs": [
    {
     "name": "stdout",
     "output_type": "stream",
     "text": [
      "KNN\n",
      "              precision    recall  f1-score   support\n",
      "\n",
      "           0       0.95      0.93      0.94     26377\n",
      "           1       0.75      0.81      0.78      6782\n",
      "\n",
      "   micro avg       0.91      0.91      0.91     33159\n",
      "   macro avg       0.85      0.87      0.86     33159\n",
      "weighted avg       0.91      0.91      0.91     33159\n",
      "\n",
      "L2 Regularized Logistic Regression\n",
      "              precision    recall  f1-score   support\n",
      "\n",
      "           0       0.87      0.96      0.91     26377\n",
      "           1       0.74      0.47      0.57      6782\n",
      "\n",
      "   micro avg       0.86      0.86      0.86     33159\n",
      "   macro avg       0.81      0.71      0.74     33159\n",
      "weighted avg       0.85      0.86      0.84     33159\n",
      "\n",
      "L1 Regularized Logistic Regression\n",
      "              precision    recall  f1-score   support\n",
      "\n",
      "           0       0.89      0.95      0.92     26377\n",
      "           1       0.74      0.53      0.62      6782\n",
      "\n",
      "   micro avg       0.87      0.87      0.87     33159\n",
      "   macro avg       0.81      0.74      0.77     33159\n",
      "weighted avg       0.86      0.87      0.86     33159\n",
      "\n",
      "Neural Network\n",
      "              precision    recall  f1-score   support\n",
      "\n",
      "           0       0.98      0.92      0.95     26377\n",
      "           1       0.76      0.93      0.83      6782\n",
      "\n",
      "   micro avg       0.92      0.92      0.92     33159\n",
      "   macro avg       0.87      0.93      0.89     33159\n",
      "weighted avg       0.93      0.92      0.93     33159\n",
      "\n"
     ]
    }
   ],
   "source": [
    "# Check model performance - binary outcome\n",
    "print('KNN')\n",
    "print(classification_report(y_test, pred_kn))\n",
    "\n",
    "print('L2 Regularized Logistic Regression')\n",
    "print(classification_report(y_test, pred_lr))\n",
    "\n",
    "print('L1 Regularized Logistic Regression')\n",
    "print(classification_report(y_test, pred_rr))\n",
    "\n",
    "print('Neural Network')\n",
    "print(classification_report(y_test, pred_nn))"
   ]
  },
  {
   "cell_type": "code",
   "execution_count": 10,
   "metadata": {},
   "outputs": [],
   "source": [
    "# Probability Assessment Function\n",
    "def prob_summary(clf, data, actual):\n",
    "    \n",
    "    # Generate predicted probabilities\n",
    "    probs = clf.predict_proba(data)\n",
    "    probs = pd.Series([i[1] for i in probs])\n",
    "    \n",
    "    # Add probabilities to actuals in dataframe\n",
    "    probs_df = pd.concat([probs, actual.reset_index()], axis = 1).reset_index()\n",
    "    \n",
    "    # Clean dataframe\n",
    "    probs_df.columns = ['level_0', 'Prob', 'index', 'Actual']\n",
    "    probs_df         = probs_df.drop(['level_0', 'index'], axis = 1)\n",
    "    \n",
    "    # Round probabilities to nearest tenth\n",
    "    probs_df['RoundedProb'] = (probs_df['Prob']).round(1)\n",
    "    \n",
    "    # Summarize\n",
    "    summary = probs_df.groupby(\n",
    "        'RoundedProb'\n",
    "    ).agg(\n",
    "        {\n",
    "            'Actual':['count', 'sum']\n",
    "        }\n",
    "    )\n",
    "    \n",
    "    # Fix column names\n",
    "    summary.columns = [\"_\".join(i) for i in summary.columns.ravel()]\n",
    "    \n",
    "    # Calculate predicted percentages\n",
    "    summary['Actual_percentage'] = (summary['Actual_sum'] / summary['Actual_count']).round(2)\n",
    "    return(summary)"
   ]
  },
  {
   "cell_type": "code",
   "execution_count": 11,
   "metadata": {},
   "outputs": [
    {
     "name": "stdout",
     "output_type": "stream",
     "text": [
      "KNN\n",
      "             Actual_count  Actual_sum  Actual_percentage\n",
      "RoundedProb                                             \n",
      "0.0                 23208         125               0.01\n",
      "0.2                  1096         368               0.34\n",
      "0.4                  1488         782               0.53\n",
      "0.6                  2287        1519               0.66\n",
      "0.8                  2839        2158               0.76\n",
      "1.0                  2241        1830               0.82 \n",
      "\n",
      "L2 Regularized Logistic Regression\n",
      "             Actual_count  Actual_sum  Actual_percentage\n",
      "RoundedProb                                             \n",
      "0.0                 14179           0               0.00\n",
      "0.1                  8313           0               0.00\n",
      "0.2                   619          55               0.09\n",
      "0.3                  2426        1194               0.49\n",
      "0.4                  2296        1585               0.69\n",
      "0.5                  1818        1420               0.78\n",
      "0.6                   862         722               0.84\n",
      "0.7                   337         293               0.87\n",
      "0.8                   488         224               0.46\n",
      "0.9                  1060         777               0.73\n",
      "1.0                   761         512               0.67 \n",
      "\n",
      "L1 Regularized Logistic Regression\n",
      "             Actual_count  Actual_sum  Actual_percentage\n",
      "RoundedProb                                             \n",
      "0.0                 16796           0               0.00\n",
      "0.1                  5905           0               0.00\n",
      "0.2                   357          15               0.04\n",
      "0.3                  1909         911               0.48\n",
      "0.4                  2368        1511               0.64\n",
      "0.5                  1824        1411               0.77\n",
      "0.6                  1149         949               0.83\n",
      "0.7                   458         399               0.87\n",
      "0.8                   177         147               0.83\n",
      "0.9                  1219         738               0.61\n",
      "1.0                   997         701               0.70 \n",
      "\n",
      "Neural Network\n",
      "             Actual_count  Actual_sum  Actual_percentage\n",
      "RoundedProb                                             \n",
      "0.0                 23091           0               0.00\n",
      "0.1                    24           3               0.12\n",
      "0.2                   470          94               0.20\n",
      "0.3                   835         212               0.25\n",
      "0.4                   315         124               0.39\n",
      "0.5                   220         121               0.55\n",
      "0.6                   969         585               0.60\n",
      "0.7                  2613        1834               0.70\n",
      "0.8                  3157        2521               0.80\n",
      "0.9                  1416        1243               0.88\n",
      "1.0                    49          45               0.92 \n",
      "\n"
     ]
    }
   ],
   "source": [
    "# Probability Assessment\n",
    "# Check model performance - probabilities\n",
    "print('KNN')\n",
    "print(prob_summary(clf_kn, X_test, y_test), '\\n')\n",
    "\n",
    "print('L2 Regularized Logistic Regression')\n",
    "print(prob_summary(clf_lr, X_test, y_test), '\\n')\n",
    "\n",
    "print('L1 Regularized Logistic Regression')\n",
    "print(prob_summary(clf_rr, X_test, y_test), '\\n')\n",
    "\n",
    "print('Neural Network')\n",
    "print(prob_summary(clf_nn, X_test, y_test), '\\n')"
   ]
  }
 ],
 "metadata": {
  "kernelspec": {
   "display_name": "Python 3",
   "language": "python",
   "name": "python3"
  },
  "language_info": {
   "codemirror_mode": {
    "name": "ipython",
    "version": 3
   },
   "file_extension": ".py",
   "mimetype": "text/x-python",
   "name": "python",
   "nbconvert_exporter": "python",
   "pygments_lexer": "ipython3",
   "version": "3.7.1"
  }
 },
 "nbformat": 4,
 "nbformat_minor": 2
}
