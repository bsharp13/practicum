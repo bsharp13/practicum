{
 "cells": [
  {
   "cell_type": "code",
   "execution_count": 1,
   "metadata": {},
   "outputs": [],
   "source": [
    "import numpy as np\n",
    "import pandas as pd\n",
    "\n",
    "from sklearn.model_selection import train_test_split\n",
    "from sklearn.linear_model import LogisticRegression\n",
    "from sklearn.metrics import accuracy_score, f1_score, classification_report\n",
    "from sklearn.utils import resample\n",
    "from sklearn.svm import SVC\n",
    "from sklearn.ensemble import RandomForestClassifier, GradientBoostingClassifier"
   ]
  },
  {
   "cell_type": "code",
   "execution_count": 2,
   "metadata": {},
   "outputs": [],
   "source": [
    "# Read in data\n",
    "mod_data = pd.read_csv('appointments_clean.csv')"
   ]
  },
  {
   "cell_type": "code",
   "execution_count": 3,
   "metadata": {},
   "outputs": [
    {
     "data": {
      "text/plain": [
       "Index(['PatientId', 'AppointmentID', 'Gender', 'ScheduledDay',\n",
       "       'AppointmentDay', 'Age', 'Neighbourhood', 'Scholarship', 'Hipertension',\n",
       "       'Diabetes', 'Alcoholism', 'Handcap', 'SMS_received', 'No-show',\n",
       "       'DaysBetween', 'NoShow', 'PreviousMiss'],\n",
       "      dtype='object')"
      ]
     },
     "execution_count": 3,
     "metadata": {},
     "output_type": "execute_result"
    }
   ],
   "source": [
    "mod_data.columns"
   ]
  },
  {
   "cell_type": "code",
   "execution_count": 4,
   "metadata": {},
   "outputs": [],
   "source": [
    "# Split into X and y\n",
    "X = mod_data.drop(\n",
    "    ['PatientId', 'AppointmentID', 'ScheduledDay', 'AppointmentDay', \n",
    "     'Neighbourhood', 'No-show', 'NoShow'], \n",
    "    axis = 1\n",
    ")\n",
    "y = mod_data.NoShow\n",
    "\n",
    "# Test/train split\n",
    "X_train, X_test, y_train, y_test = train_test_split(\n",
    "    X, y, test_size = 0.3, random_state = 314\n",
    ")"
   ]
  },
  {
   "cell_type": "code",
   "execution_count": 14,
   "metadata": {},
   "outputs": [
    {
     "name": "stderr",
     "output_type": "stream",
     "text": [
      "/Library/Frameworks/Python.framework/Versions/3.7/lib/python3.7/site-packages/sklearn/linear_model/logistic.py:432: FutureWarning: Default solver will be changed to 'lbfgs' in 0.22. Specify a solver to silence this warning.\n",
      "  FutureWarning)\n"
     ]
    }
   ],
   "source": [
    "# Logistic regression\n",
    "clf_lr = LogisticRegression(penalty = 'l2').fit(X_train, y_train)\n",
    "pred_lr = clf_lr.predict(X_test)\n",
    "prob_lr = clf_lr.predict_proba(X_test)"
   ]
  },
  {
   "cell_type": "code",
   "execution_count": 15,
   "metadata": {},
   "outputs": [
    {
     "name": "stderr",
     "output_type": "stream",
     "text": [
      "/Library/Frameworks/Python.framework/Versions/3.7/lib/python3.7/site-packages/sklearn/linear_model/logistic.py:432: FutureWarning: Default solver will be changed to 'lbfgs' in 0.22. Specify a solver to silence this warning.\n",
      "  FutureWarning)\n"
     ]
    }
   ],
   "source": [
    "# Regularized regression\n",
    "clf_rr = LogisticRegression(penalty = 'l1').fit(X_train, y_train)\n",
    "\n",
    "pred_rr = clf_rr.predict(X_test)\n",
    "pred_rr = clf_rr.predict_proba(X_test)"
   ]
  },
  {
   "cell_type": "code",
   "execution_count": 17,
   "metadata": {},
   "outputs": [],
   "source": [
    "# Random forest\n",
    "clf_rf = RandomForestClassifier(\n",
    "    n_estimators = 100,\n",
    "    random_state = 314\n",
    ").fit(X_train, y_train)\n",
    "\n",
    "pred_rf = clf_rf.predict(X_test)\n",
    "prob_rf = clf_rf.predict_proba(X_test)"
   ]
  },
  {
   "cell_type": "code",
   "execution_count": 18,
   "metadata": {},
   "outputs": [],
   "source": [
    "# Gradient boosting\n",
    "clf_gb = GradientBoostingClassifier(\n",
    "    random_state = 314\n",
    ").fit(X_train, y_train)\n",
    "\n",
    "pred_gb = clf_gb.predict(X_test)\n",
    "prob_gb = clf_gb.predict_proba(X_test)"
   ]
  },
  {
   "cell_type": "code",
   "execution_count": 19,
   "metadata": {},
   "outputs": [
    {
     "name": "stdout",
     "output_type": "stream",
     "text": [
      "L2 Regularized Regression\n",
      "              precision    recall  f1-score   support\n",
      "\n",
      "           0       0.89      0.95      0.92     26377\n",
      "           1       0.74      0.54      0.62      6782\n",
      "\n",
      "   micro avg       0.87      0.87      0.87     33159\n",
      "   macro avg       0.81      0.74      0.77     33159\n",
      "weighted avg       0.86      0.87      0.86     33159\n",
      "\n",
      "L1 Regularized Regression\n",
      "              precision    recall  f1-score   support\n",
      "\n",
      "           0       0.89      0.95      0.92     26377\n",
      "           1       0.74      0.54      0.62      6782\n",
      "\n",
      "   micro avg       0.87      0.87      0.87     33159\n",
      "   macro avg       0.81      0.74      0.77     33159\n",
      "weighted avg       0.86      0.87      0.86     33159\n",
      "\n",
      "Random Forest\n",
      "              precision    recall  f1-score   support\n",
      "\n",
      "           0       0.95      0.94      0.94     26377\n",
      "           1       0.76      0.81      0.79      6782\n",
      "\n",
      "   micro avg       0.91      0.91      0.91     33159\n",
      "   macro avg       0.86      0.87      0.87     33159\n",
      "weighted avg       0.91      0.91      0.91     33159\n",
      "\n",
      "Gradient Boosting\n",
      "              precision    recall  f1-score   support\n",
      "\n",
      "           0       0.98      0.92      0.95     26377\n",
      "           1       0.76      0.93      0.84      6782\n",
      "\n",
      "   micro avg       0.93      0.93      0.93     33159\n",
      "   macro avg       0.87      0.93      0.89     33159\n",
      "weighted avg       0.94      0.93      0.93     33159\n",
      "\n"
     ]
    }
   ],
   "source": [
    "# Check model performance\n",
    "print('L2 Regularized Regression')\n",
    "print(classification_report(y_test, pred_lr))\n",
    "\n",
    "print('L1 Regularized Regression')\n",
    "print(classification_report(y_test, pred_lr))\n",
    "\n",
    "print('Random Forest')\n",
    "print(classification_report(y_test, pred_rf))\n",
    "\n",
    "print('Gradient Boosting')\n",
    "print(classification_report(y_test, pred_gb))\n"
   ]
  }
 ],
 "metadata": {
  "kernelspec": {
   "display_name": "Python 3",
   "language": "python",
   "name": "python3"
  },
  "language_info": {
   "codemirror_mode": {
    "name": "ipython",
    "version": 3
   },
   "file_extension": ".py",
   "mimetype": "text/x-python",
   "name": "python",
   "nbconvert_exporter": "python",
   "pygments_lexer": "ipython3",
   "version": "3.7.1"
  }
 },
 "nbformat": 4,
 "nbformat_minor": 2
}
