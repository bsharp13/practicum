{
 "cells": [
  {
   "cell_type": "code",
   "execution_count": 1,
   "metadata": {},
   "outputs": [],
   "source": [
    "import numpy as np\n",
    "import pandas as pd\n",
    "import matplotlib.pyplot as plt\n",
    "import seaborn as sns"
   ]
  },
  {
   "cell_type": "code",
   "execution_count": 2,
   "metadata": {},
   "outputs": [],
   "source": [
    "# Read data\n",
    "appointment = pd.read_csv('appointments_clean.csv')"
   ]
  },
  {
   "cell_type": "code",
   "execution_count": 3,
   "metadata": {},
   "outputs": [
    {
     "data": {
      "text/plain": [
       "(110527, 17)"
      ]
     },
     "execution_count": 3,
     "metadata": {},
     "output_type": "execute_result"
    }
   ],
   "source": [
    "# Dimensions\n",
    "appointment.shape"
   ]
  },
  {
   "cell_type": "code",
   "execution_count": 4,
   "metadata": {},
   "outputs": [
    {
     "data": {
      "text/plain": [
       "Index(['PatientId', 'AppointmentID', 'Gender', 'ScheduledDay',\n",
       "       'AppointmentDay', 'Age', 'Neighbourhood', 'Scholarship', 'Hipertension',\n",
       "       'Diabetes', 'Alcoholism', 'Handcap', 'SMS_received', 'No-show',\n",
       "       'DaysBetween', 'NoShow', 'PreviousMiss'],\n",
       "      dtype='object')"
      ]
     },
     "execution_count": 4,
     "metadata": {},
     "output_type": "execute_result"
    }
   ],
   "source": [
    "# Check column names\n",
    "appointment.columns"
   ]
  },
  {
   "cell_type": "code",
   "execution_count": 5,
   "metadata": {},
   "outputs": [
    {
     "data": {
      "text/plain": [
       "PatientId         0.0\n",
       "AppointmentID     0.0\n",
       "Gender            0.0\n",
       "ScheduledDay      0.0\n",
       "AppointmentDay    0.0\n",
       "Age               0.0\n",
       "Neighbourhood     0.0\n",
       "Scholarship       0.0\n",
       "Hipertension      0.0\n",
       "Diabetes          0.0\n",
       "Alcoholism        0.0\n",
       "Handcap           0.0\n",
       "SMS_received      0.0\n",
       "No-show           0.0\n",
       "DaysBetween       0.0\n",
       "NoShow            0.0\n",
       "PreviousMiss      0.0\n",
       "dtype: float64"
      ]
     },
     "execution_count": 5,
     "metadata": {},
     "output_type": "execute_result"
    }
   ],
   "source": [
    "# Check for missing data\n",
    "appointment.isnull().sum() / len(appointment) * 100"
   ]
  },
  {
   "cell_type": "code",
   "execution_count": 6,
   "metadata": {},
   "outputs": [
    {
     "data": {
      "text/html": [
       "<div>\n",
       "<style scoped>\n",
       "    .dataframe tbody tr th:only-of-type {\n",
       "        vertical-align: middle;\n",
       "    }\n",
       "\n",
       "    .dataframe tbody tr th {\n",
       "        vertical-align: top;\n",
       "    }\n",
       "\n",
       "    .dataframe thead th {\n",
       "        text-align: right;\n",
       "    }\n",
       "</style>\n",
       "<table border=\"1\" class=\"dataframe\">\n",
       "  <thead>\n",
       "    <tr style=\"text-align: right;\">\n",
       "      <th></th>\n",
       "      <th>PatientId</th>\n",
       "      <th>AppointmentID</th>\n",
       "      <th>Gender</th>\n",
       "      <th>ScheduledDay</th>\n",
       "      <th>AppointmentDay</th>\n",
       "      <th>Age</th>\n",
       "      <th>Neighbourhood</th>\n",
       "      <th>Scholarship</th>\n",
       "      <th>Hipertension</th>\n",
       "      <th>Diabetes</th>\n",
       "      <th>Alcoholism</th>\n",
       "      <th>Handcap</th>\n",
       "      <th>SMS_received</th>\n",
       "      <th>No-show</th>\n",
       "      <th>DaysBetween</th>\n",
       "      <th>NoShow</th>\n",
       "      <th>PreviousMiss</th>\n",
       "    </tr>\n",
       "  </thead>\n",
       "  <tbody>\n",
       "    <tr>\n",
       "      <th>0</th>\n",
       "      <td>39217.84439</td>\n",
       "      <td>5751990</td>\n",
       "      <td>0</td>\n",
       "      <td>2016-05-31</td>\n",
       "      <td>2016-06-03</td>\n",
       "      <td>44</td>\n",
       "      <td>PRAIA DO SUÁ</td>\n",
       "      <td>0</td>\n",
       "      <td>0</td>\n",
       "      <td>0</td>\n",
       "      <td>0</td>\n",
       "      <td>0</td>\n",
       "      <td>0</td>\n",
       "      <td>No</td>\n",
       "      <td>3</td>\n",
       "      <td>0</td>\n",
       "      <td>0</td>\n",
       "    </tr>\n",
       "    <tr>\n",
       "      <th>1</th>\n",
       "      <td>43741.75652</td>\n",
       "      <td>5760144</td>\n",
       "      <td>1</td>\n",
       "      <td>2016-06-01</td>\n",
       "      <td>2016-06-01</td>\n",
       "      <td>39</td>\n",
       "      <td>MARIA ORTIZ</td>\n",
       "      <td>0</td>\n",
       "      <td>0</td>\n",
       "      <td>1</td>\n",
       "      <td>0</td>\n",
       "      <td>0</td>\n",
       "      <td>0</td>\n",
       "      <td>No</td>\n",
       "      <td>0</td>\n",
       "      <td>0</td>\n",
       "      <td>0</td>\n",
       "    </tr>\n",
       "    <tr>\n",
       "      <th>2</th>\n",
       "      <td>93779.52927</td>\n",
       "      <td>5712759</td>\n",
       "      <td>0</td>\n",
       "      <td>2016-05-18</td>\n",
       "      <td>2016-05-18</td>\n",
       "      <td>33</td>\n",
       "      <td>CENTRO</td>\n",
       "      <td>0</td>\n",
       "      <td>0</td>\n",
       "      <td>0</td>\n",
       "      <td>0</td>\n",
       "      <td>0</td>\n",
       "      <td>0</td>\n",
       "      <td>No</td>\n",
       "      <td>0</td>\n",
       "      <td>0</td>\n",
       "      <td>0</td>\n",
       "    </tr>\n",
       "    <tr>\n",
       "      <th>3</th>\n",
       "      <td>141724.16655</td>\n",
       "      <td>5637648</td>\n",
       "      <td>1</td>\n",
       "      <td>2016-04-29</td>\n",
       "      <td>2016-05-02</td>\n",
       "      <td>12</td>\n",
       "      <td>FORTE SÃO JOÃO</td>\n",
       "      <td>0</td>\n",
       "      <td>0</td>\n",
       "      <td>0</td>\n",
       "      <td>0</td>\n",
       "      <td>0</td>\n",
       "      <td>0</td>\n",
       "      <td>No</td>\n",
       "      <td>3</td>\n",
       "      <td>0</td>\n",
       "      <td>0</td>\n",
       "    </tr>\n",
       "    <tr>\n",
       "      <th>4</th>\n",
       "      <td>537615.28476</td>\n",
       "      <td>5637728</td>\n",
       "      <td>0</td>\n",
       "      <td>2016-04-29</td>\n",
       "      <td>2016-05-06</td>\n",
       "      <td>14</td>\n",
       "      <td>FORTE SÃO JOÃO</td>\n",
       "      <td>0</td>\n",
       "      <td>0</td>\n",
       "      <td>0</td>\n",
       "      <td>0</td>\n",
       "      <td>0</td>\n",
       "      <td>1</td>\n",
       "      <td>No</td>\n",
       "      <td>7</td>\n",
       "      <td>0</td>\n",
       "      <td>0</td>\n",
       "    </tr>\n",
       "  </tbody>\n",
       "</table>\n",
       "</div>"
      ],
      "text/plain": [
       "      PatientId  AppointmentID  Gender ScheduledDay AppointmentDay  Age  \\\n",
       "0   39217.84439        5751990       0   2016-05-31     2016-06-03   44   \n",
       "1   43741.75652        5760144       1   2016-06-01     2016-06-01   39   \n",
       "2   93779.52927        5712759       0   2016-05-18     2016-05-18   33   \n",
       "3  141724.16655        5637648       1   2016-04-29     2016-05-02   12   \n",
       "4  537615.28476        5637728       0   2016-04-29     2016-05-06   14   \n",
       "\n",
       "    Neighbourhood  Scholarship  Hipertension  Diabetes  Alcoholism  Handcap  \\\n",
       "0    PRAIA DO SUÁ            0             0         0           0        0   \n",
       "1     MARIA ORTIZ            0             0         1           0        0   \n",
       "2          CENTRO            0             0         0           0        0   \n",
       "3  FORTE SÃO JOÃO            0             0         0           0        0   \n",
       "4  FORTE SÃO JOÃO            0             0         0           0        0   \n",
       "\n",
       "   SMS_received No-show  DaysBetween  NoShow  PreviousMiss  \n",
       "0             0      No            3       0             0  \n",
       "1             0      No            0       0             0  \n",
       "2             0      No            0       0             0  \n",
       "3             0      No            3       0             0  \n",
       "4             1      No            7       0             0  "
      ]
     },
     "execution_count": 6,
     "metadata": {},
     "output_type": "execute_result"
    }
   ],
   "source": [
    "# Preview\n",
    "appointment.head()"
   ]
  },
  {
   "cell_type": "code",
   "execution_count": 7,
   "metadata": {},
   "outputs": [
    {
     "name": "stdout",
     "output_type": "stream",
     "text": [
      "0    71840\n",
      "1    38687\n",
      "Name: Gender, dtype: int64 \n",
      "\n",
      "0    99666\n",
      "1    10861\n",
      "Name: Scholarship, dtype: int64 \n",
      "\n",
      "0    88726\n",
      "1    21801\n",
      "Name: Hipertension, dtype: int64 \n",
      "\n",
      "0    102584\n",
      "1      7943\n",
      "Name: Diabetes, dtype: int64 \n",
      "\n",
      "0    108286\n",
      "1      2241\n",
      "Name: Handcap, dtype: int64 \n",
      "\n",
      "0    75045\n",
      "1    35482\n",
      "Name: SMS_received, dtype: int64 \n",
      "\n",
      "0    88208\n",
      "1    22319\n",
      "Name: NoShow, dtype: int64\n"
     ]
    }
   ],
   "source": [
    "# Check distribution of binary variables\n",
    "print(appointment.Gender.value_counts(), '\\n')\n",
    "print(appointment.Scholarship.value_counts(), '\\n')\n",
    "print(appointment.Hipertension.value_counts(), '\\n')\n",
    "print(appointment.Diabetes.value_counts(), '\\n')\n",
    "print(appointment.Handcap.value_counts(), '\\n')\n",
    "print(appointment.SMS_received.value_counts(), '\\n')\n",
    "print(appointment.NoShow.value_counts())"
   ]
  },
  {
   "cell_type": "code",
   "execution_count": 20,
   "metadata": {},
   "outputs": [
    {
     "name": "stdout",
     "output_type": "stream",
     "text": [
      "NoShow         0         1\n",
      "Gender                    \n",
      "0       0.517937  0.132040\n",
      "1       0.280131  0.069892 \n",
      "\n",
      "NoShow              0         1\n",
      "Scholarship                    \n",
      "0            0.723126  0.178608\n",
      "1            0.074941  0.023325 \n",
      "\n",
      "NoShow               0         1\n",
      "Hipertension                    \n",
      "0             0.634949  0.167805\n",
      "1             0.163119  0.034127 \n",
      "\n",
      "NoShow           0         1\n",
      "Diabetes                    \n",
      "0         0.739141  0.188995\n",
      "1         0.058927  0.012938 \n",
      "\n",
      "NoShow          0         1\n",
      "Handcap                    \n",
      "0        0.781474  0.198250\n",
      "1        0.016593  0.003682 \n",
      "\n",
      "NoShow               0         1\n",
      "SMS_received                    \n",
      "0             0.565563  0.113411\n",
      "1             0.232504  0.088521 \n",
      "\n"
     ]
    }
   ],
   "source": [
    "print(pd.crosstab(appointment.Gender, appointment.NoShow) / len(appointment), '\\n')\n",
    "print(pd.crosstab(appointment.Scholarship, appointment.NoShow) / len(appointment), '\\n')\n",
    "print(pd.crosstab(appointment.Hipertension, appointment.NoShow) / len(appointment), '\\n')\n",
    "print(pd.crosstab(appointment.Diabetes, appointment.NoShow) / len(appointment), '\\n')\n",
    "print(pd.crosstab(appointment.Handcap, appointment.NoShow) / len(appointment), '\\n')\n",
    "print(pd.crosstab(appointment.SMS_received, appointment.NoShow) / len(appointment), '\\n')"
   ]
  },
  {
   "cell_type": "code",
   "execution_count": 46,
   "metadata": {},
   "outputs": [],
   "source": [
    "def my_histogram(var, include_kde):\n",
    "    \n",
    "    title_dict = {'fontsize': 18}\n",
    "    axes_dict = {'fontsize': 14}\n",
    "    \n",
    "    sns.distplot(appointment[var], kde = include_kde, bins = 25, color = '#5F4787')\n",
    "    \n",
    "    plt.title('Distribution of ' + var, fontdict = title_dict)\n",
    "    plt.xlabel(var, fontdict = axes_dict)\n",
    "    plt.ylabel('Count', fontdict = axes_dict)\n",
    "    plt.show()\n",
    "    \n",
    "def my_regplot(var, n = 10000):\n",
    "    \n",
    "    title_dict = {'fontsize': 18}\n",
    "    axes_dict = {'fontsize': 14}\n",
    "    \n",
    "    sns.regplot(\n",
    "        x = var, \n",
    "        y = 'NoShow', \n",
    "        data = appointment.sample(n, random_state = 314),\n",
    "        logistic = True, \n",
    "        y_jitter = 0.03,\n",
    "        color = '#5F4787',\n",
    "        scatter_kws = {'alpha': 0.1}\n",
    "    )\n",
    "    \n",
    "    plt.title('No Show by ' + var, fontdict = title_dict)\n",
    "    plt.xlabel(var, fontdict = axes_dict)\n",
    "    plt.ylabel('No Show', fontdict = axes_dict)\n",
    "    plt.show()"
   ]
  },
  {
   "cell_type": "code",
   "execution_count": 11,
   "metadata": {},
   "outputs": [
    {
     "data": {
      "image/png": "[encoded data removed]",
      "text/plain": [
       "<Figure size 432x288 with 1 Axes>"
      ]
     },
     "metadata": {
      "needs_background": "light"
     },
     "output_type": "display_data"
    },
    {
     "data": {
      "image/png": "[encoded data removed]",
      "text/plain": [
       "<Figure size 432x288 with 1 Axes>"
      ]
     },
     "metadata": {
      "needs_background": "light"
     },
     "output_type": "display_data"
    },
    {
     "data": {
      "image/png": "[encoded data removed]",
      "text/plain": [
       "<Figure size 432x288 with 1 Axes>"
      ]
     },
     "metadata": {
      "needs_background": "light"
     },
     "output_type": "display_data"
    }
   ],
   "source": [
    "my_histogram('Age', False)\n",
    "my_histogram('PreviousMiss', False)\n",
    "my_histogram('DaysBetween', False)"
   ]
  },
  {
   "cell_type": "code",
   "execution_count": 47,
   "metadata": {},
   "outputs": [
    {
     "data": {
      "image/png": "[encoded data removed]",
      "text/plain": [
       "<Figure size 432x288 with 1 Axes>"
      ]
     },
     "metadata": {
      "needs_background": "light"
     },
     "output_type": "display_data"
    }
   ],
   "source": [
    "my_regplot('Age')\n",
    "my_regplot('PreviousMiss')\n",
    "my_regplot('DaysBetween')"
   ]
  }
 ],
 "metadata": {
  "kernelspec": {
   "display_name": "Python 3",
   "language": "python",
   "name": "python3"
  },
  "language_info": {
   "codemirror_mode": {
    "name": "ipython",
    "version": 3
   },
   "file_extension": ".py",
   "mimetype": "text/x-python",
   "name": "python",
   "nbconvert_exporter": "python",
   "pygments_lexer": "ipython3",
   "version": "3.7.1"
  }
 },
 "nbformat": 4,
 "nbformat_minor": 2
}
