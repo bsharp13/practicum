{
 "cells": [
  {
   "cell_type": "code",
   "execution_count": 1,
   "metadata": {},
   "outputs": [],
   "source": [
    "import numpy as np\n",
    "import pandas as pd\n",
    "from dfply import *"
   ]
  },
  {
   "cell_type": "code",
   "execution_count": 2,
   "metadata": {},
   "outputs": [],
   "source": [
    "appointment = pd.read_csv('appointments.csv')"
   ]
  },
  {
   "cell_type": "code",
   "execution_count": 3,
   "metadata": {},
   "outputs": [],
   "source": [
    "# Create additional variables\n",
    "appointment['Gender'] = np.where(appointment['Gender'] == 'F', 0, 1)\n",
    "appointment['ScheduledDay'] = pd.to_datetime(appointment['ScheduledDay']).dt.date\n",
    "appointment['AppointmentDay'] = pd.to_datetime(appointment['AppointmentDay']).dt.date\n",
    "appointment['DaysBetween'] = abs(\n",
    "    appointment['ScheduledDay'] - appointment['AppointmentDay']\n",
    ").dt.days\n",
    "appointment['NoShow'] = np.where(appointment['No-show'] == 'No', 0, 1)\n",
    "appointment['Handcap'] = np.where(appointment['Handcap'] > 0, 1, 0)"
   ]
  },
  {
   "cell_type": "code",
   "execution_count": 4,
   "metadata": {},
   "outputs": [],
   "source": [
    "# FIXME: Do without dfply?\n",
    "# Create cumulative variables\n",
    "appointment = (appointment >> \n",
    "    arrange(X.PatientId, X.AppointmentDay) >>\n",
    "    group_by(X.PatientId) >>\n",
    "    mutate(\n",
    "        PreviousMiss = cumsum(X.NoShow)\n",
    "    )\n",
    ")\n"
   ]
  },
  {
   "cell_type": "code",
   "execution_count": 5,
   "metadata": {},
   "outputs": [],
   "source": [
    "appointment.to_csv('appointments_clean.csv', index = False)"
   ]
  }
 ],
 "metadata": {
  "kernelspec": {
   "display_name": "Python 3",
   "language": "python",
   "name": "python3"
  },
  "language_info": {
   "codemirror_mode": {
    "name": "ipython",
    "version": 3
   },
   "file_extension": ".py",
   "mimetype": "text/x-python",
   "name": "python",
   "nbconvert_exporter": "python",
   "pygments_lexer": "ipython3",
   "version": "3.7.1"
  }
 },
 "nbformat": 4,
 "nbformat_minor": 2
}
