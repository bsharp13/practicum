{
 "cells": [
  {
   "cell_type": "code",
   "execution_count": 1,
   "metadata": {},
   "outputs": [],
   "source": [
    "import numpy as np\n",
    "import pandas as pd\n",
    "import pickle\n",
    "\n",
    "from sklearn.model_selection import train_test_split, RandomizedSearchCV\n",
    "from sklearn.metrics import accuracy_score, f1_score, classification_report\n",
    "from sklearn.utils import resample\n",
    "from sklearn.preprocessing import MinMaxScaler\n",
    "from sklearn.ensemble import GradientBoostingClassifier\n",
    "from sklearn.neural_network import MLPClassifier\n",
    "from sklearn.externals import joblib"
   ]
  },
  {
   "cell_type": "code",
   "execution_count": 16,
   "metadata": {},
   "outputs": [],
   "source": [
    "gb00 = joblib.load('gb00.sav')\n",
    "gb01 = joblib.load('gb01.sav')\n",
    "gb02 = joblib.load('gb02.sav')\n",
    "gb03 = joblib.load('gb03.sav')\n",
    "gb04 = joblib.load('gb04.sav')\n",
    "mlp00 = joblib.load('mlp00.sav')\n",
    "mlp01 = joblib.load('mlp01.sav')\n",
    "mlp02 = joblib.load('mlp02.sav')\n",
    "mlp03 = joblib.load('mlp03.sav')\n",
    "mlp04 = joblib.load('mlp04.sav')"
   ]
  },
  {
   "cell_type": "code",
   "execution_count": 4,
   "metadata": {},
   "outputs": [
    {
     "ename": "NameError",
     "evalue": "name 'X_test' is not defined",
     "output_type": "error",
     "traceback": [
      "\u001b[0;31m---------------------------------------------------------------------------\u001b[0m",
      "\u001b[0;31mNameError\u001b[0m                                 Traceback (most recent call last)",
      "\u001b[0;32m<ipython-input-4-a7deaab46d0e>\u001b[0m in \u001b[0;36m<module>\u001b[0;34m\u001b[0m\n\u001b[0;32m----> 1\u001b[0;31m \u001b[0mmod\u001b[0m\u001b[0;34m.\u001b[0m\u001b[0mpredict_proba\u001b[0m\u001b[0;34m(\u001b[0m\u001b[0mX_test\u001b[0m\u001b[0;34m)\u001b[0m\u001b[0;34m\u001b[0m\u001b[0;34m\u001b[0m\u001b[0m\n\u001b[0m",
      "\u001b[0;31mNameError\u001b[0m: name 'X_test' is not defined"
     ]
    }
   ],
   "source": [
    "mod.predict_proba(X_test)"
   ]
  },
  {
   "cell_type": "code",
   "execution_count": 14,
   "metadata": {},
   "outputs": [
    {
     "name": "stderr",
     "output_type": "stream",
     "text": [
      "/Library/Frameworks/Python.framework/Versions/3.7/lib/python3.7/site-packages/sklearn/preprocessing/data.py:323: DataConversionWarning: Data with input dtype int64 were all converted to float64 by MinMaxScaler.\n",
      "  return self.partial_fit(X, y)\n"
     ]
    }
   ],
   "source": [
    "# Read in data\n",
    "mod_data = pd.read_csv('appointments_clean.csv')\n",
    "\n",
    "# Split into X and y\n",
    "X = mod_data.drop(\n",
    "    ['PatientId', 'AppointmentID', 'ScheduledDay', 'AppointmentDay', \n",
    "     'Neighbourhood', 'No-show', 'NoShow'], \n",
    "    axis = 1\n",
    ")\n",
    "y = mod_data.NoShow\n",
    "\n",
    "# Test/train split\n",
    "X_train, X_test, y_train, y_test = train_test_split(\n",
    "    X, y, test_size = 0.3, random_state = 314\n",
    ")\n",
    "\n",
    "# Scale data\n",
    "scaler = MinMaxScaler().fit(X_train)\n",
    "\n",
    "X_train_mm = scaler.transform(X_train)\n",
    "X_test_mm  = scaler.transform(X_test)"
   ]
  },
  {
   "cell_type": "code",
   "execution_count": 6,
   "metadata": {},
   "outputs": [
    {
     "data": {
      "text/plain": [
       "array([[0.94524543, 0.05475457],\n",
       "       [0.93989396, 0.06010604],\n",
       "       [0.94263482, 0.05736518],\n",
       "       ...,\n",
       "       [0.34025407, 0.65974593],\n",
       "       [0.93648136, 0.06351864],\n",
       "       [0.4032586 , 0.5967414 ]])"
      ]
     },
     "execution_count": 6,
     "metadata": {},
     "output_type": "execute_result"
    }
   ],
   "source": [
    "mod.predict_proba(X_test)"
   ]
  },
  {
   "cell_type": "code",
   "execution_count": 7,
   "metadata": {},
   "outputs": [],
   "source": [
    "def prob_summary(clf, data, actual):\n",
    "    \n",
    "    # Generate predicted probabilities\n",
    "    probs = clf.predict_proba(data)\n",
    "    probs = pd.Series([i[1] for i in probs])\n",
    "    \n",
    "    # Add probabilities to actuals in dataframe\n",
    "    probs_df = pd.concat([probs, actual.reset_index()], axis = 1).reset_index()\n",
    "    \n",
    "    # Clean dataframe\n",
    "    probs_df.columns = ['level_0', 'Prob', 'index', 'Actual']\n",
    "    probs_df         = probs_df.drop(['level_0', 'index'], axis = 1)\n",
    "    \n",
    "    # Round probabilities to nearest tenth\n",
    "    probs_df['RoundedProb'] = (probs_df['Prob']).round(1)\n",
    "    \n",
    "    # Summarize\n",
    "    summary = probs_df.groupby(\n",
    "        'RoundedProb'\n",
    "    ).agg(\n",
    "        {\n",
    "            'Actual':['count', 'sum']\n",
    "        }\n",
    "    )\n",
    "    \n",
    "    # Fix column names\n",
    "    summary.columns = [\"_\".join(i) for i in summary.columns.ravel()]\n",
    "    \n",
    "    # Calculate predicted percentages\n",
    "    summary['Actual_percentage'] = (summary['Actual_sum'] / summary['Actual_count']).round(2)\n",
    "    return(summary)"
   ]
  },
  {
   "cell_type": "code",
   "execution_count": 17,
   "metadata": {},
   "outputs": [
    {
     "name": "stdout",
     "output_type": "stream",
     "text": [
      "Gradient Boosting\n",
      "             Actual_count  Actual_sum  Actual_percentage\n",
      "RoundedProb                                             \n",
      "0.0                 23091           0               0.00\n",
      "0.1                     1           0               0.00\n",
      "0.2                   988         211               0.21\n",
      "0.3                   391         108               0.28\n",
      "0.4                   352         144               0.41\n",
      "0.5                    66          38               0.58\n",
      "0.6                  1378         869               0.63\n",
      "0.7                  2519        1803               0.72\n",
      "0.8                  3010        2420               0.80\n",
      "0.9                  1360        1186               0.87\n",
      "1.0                     3           3               1.00 \n",
      "\n",
      "Gradient Boosting\n",
      "             Actual_count  Actual_sum  Actual_percentage\n",
      "RoundedProb                                             \n",
      "0.0                 22581        3835               0.17\n",
      "0.1                 10559        2931               0.28\n",
      "0.3                     2           2               1.00\n",
      "0.4                    17          14               0.82 \n",
      "\n",
      "Gradient Boosting\n",
      "             Actual_count  Actual_sum  Actual_percentage\n",
      "RoundedProb                                             \n",
      "0.0                 18017        3131               0.17\n",
      "0.1                 15123        3635               0.24\n",
      "0.3                    17          14               0.82\n",
      "0.4                     2           2               1.00 \n",
      "\n",
      "Multilayer Perceptron\n",
      "             Actual_count  Actual_sum  Actual_percentage\n",
      "RoundedProb                                             \n",
      "0.0                 23091           0               0.00\n",
      "0.1                    13           1               0.08\n",
      "0.2                   443          86               0.19\n",
      "0.3                   983         252               0.26\n",
      "0.4                   259         105               0.41\n",
      "0.5                    88          48               0.55\n",
      "0.6                   447         273               0.61\n",
      "0.7                  2743        1888               0.69\n",
      "0.8                  3568        2788               0.78\n",
      "0.9                  1489        1308               0.88\n",
      "1.0                    35          33               0.94 \n",
      "\n",
      "Multilayer Perceptron\n",
      "             Actual_count  Actual_sum  Actual_percentage\n",
      "RoundedProb                                             \n",
      "0.0                 33116        6753               0.20\n",
      "0.1                     6           4               0.67\n",
      "0.2                     6           4               0.67\n",
      "0.3                    26          18               0.69\n",
      "0.4                     5           3               0.60 \n",
      "\n",
      "Multilayer Perceptron\n",
      "             Actual_count  Actual_sum  Actual_percentage\n",
      "RoundedProb                                             \n",
      "0.0                 33159        6782                0.2 \n",
      "\n"
     ]
    }
   ],
   "source": [
    "print('Gradient Boosting')\n",
    "print(prob_summary(gb00, X_test, y_test), '\\n')\n",
    "\n",
    "print('Gradient Boosting')\n",
    "print(prob_summary(gb03, X_test_mm, y_test), '\\n')\n",
    "\n",
    "print('Gradient Boosting')\n",
    "print(prob_summary(gb04, X_test_mm, y_test), '\\n')\n",
    "\n",
    "print('Multilayer Perceptron')\n",
    "print(prob_summary(mlp00, X_test, y_test), '\\n')\n",
    "\n",
    "print('Multilayer Perceptron')\n",
    "print(prob_summary(mlp03, X_test_mm, y_test), '\\n')\n",
    "\n",
    "print('Multilayer Perceptron')\n",
    "print(prob_summary(mlp04, X_test_mm, y_test), '\\n')"
   ]
  },
  {
   "cell_type": "code",
   "execution_count": null,
   "metadata": {},
   "outputs": [],
   "source": []
  }
 ],
 "metadata": {
  "kernelspec": {
   "display_name": "Python 3",
   "language": "python",
   "name": "python3"
  },
  "language_info": {
   "codemirror_mode": {
    "name": "ipython",
    "version": 3
   },
   "file_extension": ".py",
   "mimetype": "text/x-python",
   "name": "python",
   "nbconvert_exporter": "python",
   "pygments_lexer": "ipython3",
   "version": "3.7.1"
  }
 },
 "nbformat": 4,
 "nbformat_minor": 2
}
